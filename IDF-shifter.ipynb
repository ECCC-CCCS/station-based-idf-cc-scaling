{
 "cells": [
  {
   "cell_type": "code",
   "execution_count": null,
   "id": "8d311496-9c7f-4390-8f76-f6bc5a8914c7",
   "metadata": {},
   "outputs": [],
   "source": [
    "import importlib as il\n",
    "il.invalidate_caches()\n",
    "glob               =il.import_module('glob')\n",
    "os                 =il.import_module('os')\n",
    "sys                =il.import_module('sys')\n",
    "sys.path.insert(0,'/notebook_dir/writable-workspace/cccs-utilities/data-tools')\n",
    "sys.path.insert(0,'/notebook_dir/writable-workspace/cccs-utilities/misc-tools')\n",
    "Thredds_extraction_functions  =il.import_module('Thredds_extraction_functions')\n",
    "ECCC_IDF_reader               =il.import_module('ECCC_IDF_reader')\n",
    "SSH_SCP_connector             =il.import_module('SSH-SCP-connector')\n",
    "xr                 =il.import_module('xarray')\n",
    "xci                =il.import_module('xclim.indices')\n",
    "\n",
    "np                 =il.import_module('numpy')\n",
    "pd                 =il.import_module('pandas')\n",
    "from tqdm import tqdm\n",
    "from xclim.ensembles import create_ensemble\n",
    "from scp import SCPClient"
   ]
  },
  {
   "cell_type": "code",
   "execution_count": null,
   "id": "0d3b18e6-b0e0-43de-abcf-16656e92f786",
   "metadata": {},
   "outputs": [],
   "source": [
    "rcps=['rcp26','rcp45','rcp85']\n",
    "\n",
    "# Load temperature data\n",
    "ds=[]\n",
    "for rcp in rcps:\n",
    "    file_list=Thredds_extraction_functions.threddscall(rcps=rcp,\n",
    "                                                       indices='tg_mean',\n",
    "                                                       frequency='YS',\n",
    "                                                       average=True)\n",
    "    ds.append(create_ensemble([f.opendap_url() for f in file_list]))\n",
    "temperature_data=xr.concat(ds,dim='rcp')\n",
    "temperature_data=temperature_data.rename_dims({'realization':'model'})\n",
    "temperature_data=temperature_data.rename_vars({'realization':'model'})\n",
    "\n",
    "mod_time_as_int=temperature_data.coords['time'].values.astype('datetime64[Y]').astype(int)+1970"
   ]
  },
  {
   "cell_type": "code",
   "execution_count": null,
   "id": "a5e79bb5-b724-4b15-8eb7-4b4199e26a43",
   "metadata": {},
   "outputs": [],
   "source": [
    "n_rcps=len(temperature_data.coords['rcp'])\n",
    "n_models=len(temperature_data.coords['model'])\n",
    "n_time=len(temperature_data.coords['time'])\n",
    "n_durations=9\n",
    "n_return_periods=6\n",
    "n_vars=2 #raw #s, and 95% confidence ranges"
   ]
  },
  {
   "cell_type": "code",
   "execution_count": null,
   "id": "d99e5d78-431d-4f58-9b0c-d41f02106ca4",
   "metadata": {},
   "outputs": [],
   "source": [
    "# Load IDF data\n",
    "IDF_files=glob.glob('IDF-files/IDF_v-3.20_2021_03_26_*/*.txt')\n",
    "tmp=ECCC_IDF_reader.read_ECCC_IDF(IDF_files[0])\n",
    "n_stations=len(IDF_files)\n",
    "station_names=[ECCC_IDF_reader.read_ECCC_IDF(f)['location']['name'] for f in IDF_files]\n",
    "station_ID=[ECCC_IDF_reader.read_ECCC_IDF(f)['location']['ID'] for f in IDF_files]\n",
    "station_latitudes=[ECCC_IDF_reader.read_ECCC_IDF(f)['location']['latitude'] for f in IDF_files]\n",
    "station_longitudes=[ECCC_IDF_reader.read_ECCC_IDF(f)['location']['longitude'] for f in IDF_files]"
   ]
  },
  {
   "cell_type": "code",
   "execution_count": null,
   "id": "93ab04c9-e82d-45c7-9648-f944ccde8253",
   "metadata": {},
   "outputs": [],
   "source": [
    "#create new, empty xarray dataset to hold all results\n",
    "IDF_da=xr.DataArray(np.empty((n_stations,n_durations,n_return_periods,n_rcps,n_models,n_time)),\n",
    "                         dims=[     'station', 'duration', 'return_period', 'rcp', 'model', 'time',],\n",
    "                         coords=dict(station=station_ID,\n",
    "                                     duration=tmp['IDF_rates'].index.values,\n",
    "                                     return_period=tmp['IDF_rates'].columns.values,\n",
    "                                     rcp=rcps,\n",
    "                                     models=temperature_data.coords['model'],\n",
    "                                     time=temperature_data.coords['time'],\n",
    "                                    ))\n",
    "\n",
    "IDF_confidence_da=xr.DataArray(np.empty((n_stations,n_durations,n_return_periods)),\n",
    "                         dims=[     'station', 'duration', 'return_period'],\n",
    "                         coords=dict(station=station_ID,\n",
    "                                     duration=tmp['IDF_rates'].index.values,\n",
    "                                     return_period=tmp['IDF_rates'].columns.values,))\n",
    "\n",
    "IDF_station_latitude_da=xr.DataArray(np.empty((n_stations)),\n",
    "                         dims=[     'station'],\n",
    "                         coords=dict(station=station_ID,))\n",
    "\n",
    "IDF_station_longitude_da=xr.DataArray(np.empty((n_stations)),\n",
    "                         dims=[     'station'],\n",
    "                         coords=dict(station=station_ID,))\n",
    "\n",
    "for n,f in enumerate(tqdm(IDF_files)):\n",
    "    IDF_dict=ECCC_IDF_reader.read_ECCC_IDF(f)\n",
    "    T=temperature_data['tg_mean'].sel(dict(lat=IDF_dict['location']['latitude'],\n",
    "                                        lon=IDF_dict['location']['longitude']*-1.),\n",
    "                                        method='nearest')\n",
    "\n",
    "    #Get mid-point of IDF period of record\n",
    "    base_time=int(np.mean((IDF_dict['period']['start_date'],\n",
    "                           IDF_dict['period']['end_date'])))\n",
    "    ibase_T=np.argmin(abs(mod_time_as_int-base_time-15))\n",
    "    \n",
    "    print(ibase_T)\n",
    "    \n",
    "    dT=T-T[:,:,ibase_T] #calculate dT - broadcast to all models, RCPs, times\n",
    "    dT.attrs['units']='delta_degreeC'\n",
    "    \n",
    "    pr_baseline=xr.DataArray(IDF_dict['IDF_rates'],\n",
    "                        coords=dict(duration=IDF_da.coords['duration'],\n",
    "                                    return_period=IDF_da.coords['return_period']),\n",
    "                        attrs={\"units\":\"mm/hour\"})\n",
    "    pr_future=xci.clausius_clapeyron_scaled_precipitation(dT,pr_baseline)\n",
    "\n",
    "    \n",
    "    IDF_da.loc[IDF_dict['location']['ID'],:,:,:,:,:] = pr_future\n",
    "    IDF_confidence_da.loc[IDF_dict['location']['ID'],:,:] = IDF_dict[\"IDF_rate_confidence\"]\n",
    "    \n",
    "    IDF_station_latitude_da.loc[IDF_dict['location']['ID']] = IDF_dict['location']['latitude']\n",
    "    IDF_station_longitude_da.loc[IDF_dict['location']['ID']] = IDF_dict['location']['longitude']\n",
    "    #TODO: add station name variable accumulator\n",
    "\n"
   ]
  },
  {
   "cell_type": "code",
   "execution_count": null,
   "id": "e7c2efdf-4537-4f0e-be38-47e31ae5916e",
   "metadata": {},
   "outputs": [],
   "source": [
    "IDF_df=xr.Dataset(dict(IDF_data=IDF_da,\n",
    "                       IDF_confidence=IDF_confidence_da,\n",
    "                       IDF_station_latitude=IDF_station_latitude_da,\n",
    "                       IDF_station_longitude=IDF_station_longitude_da,))"
   ]
  },
  {
   "cell_type": "code",
   "execution_count": null,
   "id": "026f8724-014c-454e-a3c4-f846839b2427",
   "metadata": {},
   "outputs": [],
   "source": [
    "fname='national_IDF_projection_dataset.nc'"
   ]
  },
  {
   "cell_type": "code",
   "execution_count": null,
   "id": "101a81d2-0825-43c8-9639-d65beae7dd75",
   "metadata": {},
   "outputs": [],
   "source": [
    "IDF_df.to_netcdf(fname)"
   ]
  },
  {
   "cell_type": "code",
   "execution_count": null,
   "id": "b864ce87-e8f4-42af-bea5-dfac95900a9f",
   "metadata": {},
   "outputs": [],
   "source": [
    "\n",
    "\n",
    "ssh=SSH_SCP_connector.createSSHClient('ZZZ',\n",
    "                                         22,\n",
    "                                         'YYY',\n",
    "                                         'XXX')"
   ]
  },
  {
   "cell_type": "code",
   "execution_count": null,
   "id": "0be7029d-8bd4-4b1f-ad96-0971db0dc5f8",
   "metadata": {},
   "outputs": [],
   "source": [
    "scp = SCPClient(ssh.get_transport())\n",
    "scp.put('XXX'+fname,'YYY')\n",
    "\n",
    "(stdin, stdout, stderr)=ssh.exec_command('chmod a+x '+collab_server_data_path+'figs')\n",
    "for line in stdout.readlines():\n",
    "        print(line)\n",
    "\n",
    "ssh.close()\n"
   ]
  },
  {
   "cell_type": "code",
   "execution_count": null,
   "id": "c4a66e38-d8ac-4296-a68c-19a5ac34b91a",
   "metadata": {},
   "outputs": [],
   "source": []
  },
  {
   "cell_type": "code",
   "execution_count": null,
   "id": "b663e164-e2df-40da-9fd9-036e4c2b336f",
   "metadata": {},
   "outputs": [],
   "source": [
    "!ncdump -h national_IDF_projection_dataset.nc"
   ]
  },
  {
   "cell_type": "code",
   "execution_count": null,
   "id": "00aac57f-4c41-454d-bfb3-7385ff74cd10",
   "metadata": {},
   "outputs": [],
   "source": [
    "!wget ***REMOVED***~***REMOVED***/national_IDF_projection_dataset.nc"
   ]
  },
  {
   "cell_type": "code",
   "execution_count": null,
   "id": "0608e906-575d-4fbd-8dc8-1ef4a7a215ac",
   "metadata": {},
   "outputs": [],
   "source": []
  },
  {
   "cell_type": "code",
   "execution_count": null,
   "id": "53313f84-18ac-47c3-abfb-57b071568287",
   "metadata": {},
   "outputs": [],
   "source": []
  }
 ],
 "metadata": {
  "kernelspec": {
   "display_name": "birdy",
   "language": "python",
   "name": "birdy"
  },
  "language_info": {
   "codemirror_mode": {
    "name": "ipython",
    "version": 3
   },
   "file_extension": ".py",
   "mimetype": "text/x-python",
   "name": "python",
   "nbconvert_exporter": "python",
   "pygments_lexer": "ipython3",
   "version": "3.7.10"
  }
 },
 "nbformat": 4,
 "nbformat_minor": 5
}
